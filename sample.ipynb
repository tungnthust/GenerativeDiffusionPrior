{
 "cells": [
  {
   "cell_type": "code",
   "execution_count": 1,
   "id": "ce133346-affd-4c34-9fd9-2771d6f063bc",
   "metadata": {
    "scrolled": true
   },
   "outputs": [
    {
     "name": "stdout",
     "output_type": "stream",
     "text": [
      "Traceback (most recent call last):\n",
      "  File \"sample.py\", line 22, in <module>\n",
      "    from piq import ssim, psnr\n",
      "ModuleNotFoundError: No module named 'piq'\n"
     ]
    }
   ],
   "source": [
    "MODEL_FLAGS=\"--attention_resolutions 32,16,8 --class_cond False --diffusion_steps 1000 --image_size 128 --learn_sigma True --noise_schedule cosine --num_channels 128 --num_heads 4 --num_res_blocks 2 --resblock_updown True --use_fp16 True --use_scale_shift_norm True\"\n",
    "MODEL_PATH=\"--model_path /home/minhnh/project_drive/CV/seismic-diffusion-models/model200000.pt\"\n",
    "SAMPLE_FLAGS=\"--mask_ratio 0.4 --noise_scale 0.1 --gradient_scale 0.5\"\n",
    "!python3 sample.py $MODEL_FLAGS $MODEL_PATH $SAMPLE_FLAGS --cuda_devices '7' --batch_size 150 --mode test --data_dir '/home/minhnh/project_drive/CV/seismic-dataset' --dataset 'F3'"
   ]
  },
  {
   "cell_type": "code",
   "execution_count": null,
   "id": "12dccf76-c257-4e05-90b7-7ddff6a0f2e2",
   "metadata": {},
   "outputs": [],
   "source": []
  }
 ],
 "metadata": {
  "kernelspec": {
   "display_name": "Python_CV",
   "language": "python",
   "name": "python_cv"
  },
  "language_info": {
   "codemirror_mode": {
    "name": "ipython",
    "version": 3
   },
   "file_extension": ".py",
   "mimetype": "text/x-python",
   "name": "python",
   "nbconvert_exporter": "python",
   "pygments_lexer": "ipython3",
   "version": "3.9.5"
  }
 },
 "nbformat": 4,
 "nbformat_minor": 5
}
