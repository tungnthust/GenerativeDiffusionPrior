{
 "cells": [
  {
   "cell_type": "code",
   "execution_count": null,
   "id": "3261c07f-70d4-4140-a9e9-f6870890b3ef",
   "metadata": {
    "scrolled": true
   },
   "outputs": [
    {
     "name": "stdout",
     "output_type": "stream",
     "text": [
      "Logging to ./results\n",
      "creating model and diffusion...\n",
      "creating data loader...\n",
      "Training on dataset(s):  F3,Kerry3D\n",
      "Number data: 21091\n",
      "training...\n"
     ]
    }
   ],
   "source": [
    "MODEL_FLAGS=\"--attention_resolutions 32,16,8 --class_cond False --diffusion_steps 1000 --image_size 128 --learn_sigma True --noise_schedule cosine --num_channels 128 --num_heads 4 --num_res_blocks 2 --resblock_updown True --use_fp16 True --use_scale_shift_norm True\"\n",
    "CHECKPOINT_FLAGS=\"--resume_checkpoint results/ckpt/model150000.pt\"\n",
    "!python3 scripts/train.py $MODEL_FLAGS --batch_size 64 --save_interval 25000 --data_dir '/poc-data/pvn/data' --dataset 'F3,Kerry3D'"
   ]
  },
  {
   "cell_type": "code",
   "execution_count": null,
   "id": "7f612b64-55fd-428e-9d56-1c44f5870317",
   "metadata": {},
   "outputs": [],
   "source": []
  }
 ],
 "metadata": {
  "kernelspec": {
   "display_name": "Python 3 (ipykernel)",
   "language": "python",
   "name": "python3"
  },
  "language_info": {
   "codemirror_mode": {
    "name": "ipython",
    "version": 3
   },
   "file_extension": ".py",
   "mimetype": "text/x-python",
   "name": "python",
   "nbconvert_exporter": "python",
   "pygments_lexer": "ipython3",
   "version": "3.8.10"
  }
 },
 "nbformat": 4,
 "nbformat_minor": 5
}
