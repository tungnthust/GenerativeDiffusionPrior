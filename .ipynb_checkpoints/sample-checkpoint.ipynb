{
 "cells": [
  {
   "cell_type": "code",
   "execution_count": 40,
   "id": "ce133346-affd-4c34-9fd9-2771d6f063bc",
   "metadata": {
    "scrolled": true
   },
   "outputs": [
    {
     "name": "stdout",
     "output_type": "stream",
     "text": [
      "Evaluation on dataset(s):  F3\n",
      "(255, 601, 200)\n",
      "Number data: 4404\n",
      "100%|████████████████████████| 1000/1000 [01:37<00:00, 10.31it/s, distance=11.5]\n",
      " 65%|█████████████████▋         | 654/1000 [01:02<00:32, 10.53it/s, distance=16]^C\n",
      " 66%|█████████████████▋         | 656/1000 [01:02<00:32, 10.43it/s, distance=16]\n",
      "Traceback (most recent call last):\n",
      "  File \"sample.py\", line 300, in <module>\n",
      "    main()\n",
      "  File \"sample.py\", line 253, in main\n",
      "    sample = sample_fn(model,\n",
      "  File \"sample.py\", line 192, in p_sample_loop_dps\n",
      "    img, distance = measurement_cond_fn(x_t=out['sample'],\n",
      "  File \"sample.py\", line 113, in conditioning\n",
      "    norm_grad, norm = self.grad_and_value(x_prev=x_prev, x_0_hat=x_0_hat, measurement=measurement, **kwargs)\n",
      "  File \"sample.py\", line 89, in grad_and_value\n",
      "    norm_grad = torch.autograd.grad(outputs=norm, inputs=x_prev, grad_outputs=grad_outputs)[0]\n",
      "  File \"/home/tungnt/.local/lib/python3.8/site-packages/torch/autograd/__init__.py\", line 394, in grad\n",
      "    result = Variable._execution_engine.run_backward(  # Calls into the C++ engine to run the backward pass\n",
      "KeyboardInterrupt\n"
     ]
    }
   ],
   "source": [
    "MODEL_FLAGS=\"--attention_resolutions 32,16,8 --class_cond False --diffusion_steps 1000 --image_size 128 --learn_sigma True --noise_schedule cosine --num_channels 128 --num_heads 4 --num_res_blocks 2 --resblock_updown True --use_fp16 True --use_scale_shift_norm True\"\n",
    "MODEL_PATH=\"--model_path /home/minhnh/project_drive/CV/seismic-diffusion-models/model200000.pt\"\n",
    "SAMPLE_FLAGS=\"--mask_ratio 0.4 --noise_scale 0.1 --gradient_scale 0.5\"\n",
    "!python3 sample.py $MODEL_FLAGS $MODEL_PATH $SAMPLE_FLAGS --cuda_devices '7' --batch_size 10 --mode test --data_dir '/home/minhnh/project_drive/CV/seismic-dataset' --dataset 'F3'"
   ]
  }
 ],
 "metadata": {
  "kernelspec": {
   "display_name": "Python_CV",
   "language": "python",
   "name": "python_cv"
  },
  "language_info": {
   "codemirror_mode": {
    "name": "ipython",
    "version": 3
   },
   "file_extension": ".py",
   "mimetype": "text/x-python",
   "name": "python",
   "nbconvert_exporter": "python",
   "pygments_lexer": "ipython3",
   "version": "3.9.5"
  }
 },
 "nbformat": 4,
 "nbformat_minor": 5
}
